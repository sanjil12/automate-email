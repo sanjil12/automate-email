{
 "cells": [
  {
   "cell_type": "code",
   "execution_count": null,
   "metadata": {},
   "outputs": [],
   "source": [
    "import email"
   ]
  },
  {
   "cell_type": "code",
   "execution_count": null,
   "metadata": {},
   "outputs": [],
   "source": [
    "import imaplib"
   ]
  },
  {
   "cell_type": "code",
   "execution_count": null,
   "metadata": {},
   "outputs": [],
   "source": [
    "from bs4 import BeautifulSoup"
   ]
  },
  {
   "cell_type": "code",
   "execution_count": null,
   "metadata": {},
   "outputs": [],
   "source": [
    "import os\n",
    "import mimetypes"
   ]
  },
  {
   "cell_type": "code",
   "execution_count": null,
   "metadata": {},
   "outputs": [],
   "source": [
    "user=\"email_address\"\n",
    "password=\"password\"\n",
    "imap_url=\"imap.gmail.com\"\n"
   ]
  },
  {
   "cell_type": "code",
   "execution_count": null,
   "metadata": {},
   "outputs": [],
   "source": [
    "con=imaplib.IMAP4_SSL(imap_url,993)"
   ]
  },
  {
   "cell_type": "code",
   "execution_count": null,
   "metadata": {},
   "outputs": [],
   "source": [
    "con.login(user,password)"
   ]
  },
  {
   "cell_type": "code",
   "execution_count": null,
   "metadata": {},
   "outputs": [],
   "source": [
    "con.select('Inbox')\n"
   ]
  },
  {
   "cell_type": "code",
   "execution_count": null,
   "metadata": {},
   "outputs": [],
   "source": [
    "result,data=con.search(None,'FROM','\"{}\"'.format('email_address of the person'))"
   ]
  },
  {
   "cell_type": "code",
   "execution_count": null,
   "metadata": {},
   "outputs": [],
   "source": [
    "item_list=data[0].split()"
   ]
  },
  {
   "cell_type": "code",
   "execution_count": null,
   "metadata": {},
   "outputs": [],
   "source": [
    "for msg in item_list:\n",
    "    i=0\n",
    "    print(\"printing and saving another message------------------------------------------------------------------------\\n\\n\\n\\n\")\n",
    "    result2,email_data=con.uid('fetch',msg,'(RFC822)')\n",
    "    raw_email=email_data[0][1].decode(\"utf-8\")\n",
    "    email_message=email.message_from_string(raw_email)\n",
    "    to_=email_message['To']\n",
    "    from_=email_message['From']\n",
    "    subject_=email_message['Subject']\n",
    "    date_=email_message['date']\n",
    "    \n",
    "    counter=1\n",
    "    for part in email_message.walk():\n",
    "        if part.get_content_maintype()==\"multipart\":\n",
    "            continue\n",
    "        filename=part.get_filename()\n",
    "        content_type=part.get_content_type()\n",
    "        if not filename:\n",
    "            \n",
    "            ext=mimetypes.guess_extension(content_type)\n",
    "            if not ext:\n",
    "                ext='.bin'\n",
    "            if 'text' in content_type:\n",
    "                ext='.txt'\n",
    "            elif 'html' in content_type:\n",
    "                ext='.html'\n",
    "            filename='msg-part-%08d%s'%(counter,ext)\n",
    "        counter+=1\n",
    "     #save file\n",
    "    #save_path=os.path.join(os.getcwd(),\"emails3\",'message',subject_)\n",
    "    #if not os.path.exists(save_path):\n",
    "        #os.makedirs(save_path)\n",
    "    #with open(os.path.join(save_path,filename),'wb') as fb:\n",
    "        #fb.write(part.get_payload(decode=True))\n",
    "    #i+=1\n",
    "    \n",
    "    \n",
    "    #printing message\n",
    "    print(subject_)\n",
    "    print(content_type)\n",
    "    if \"plain\" in content_type:\n",
    "        print(part.get_payload())\n",
    "    elif \"html\" in content_type:\n",
    "        html_=part.get_payload()\n",
    "        soup=BeautifulSoup(html_,\"html.parser\")\n",
    "        text=soup.get_text()\n",
    "        print(date_)\n",
    "        print(text)\n",
    "    else:\n",
    "        print(content_type)\n"
   ]
  },
  {
   "cell_type": "code",
   "execution_count": null,
   "metadata": {},
   "outputs": [],
   "source": [
    "    print(subject_)\n",
    "    print(content_type)\n"
   ]
  },
  {
   "cell_type": "code",
   "execution_count": null,
   "metadata": {},
   "outputs": [],
   "source": [
    "email_message.keys()"
   ]
  },
  {
   "cell_type": "code",
   "execution_count": null,
   "metadata": {},
   "outputs": [],
   "source": [
    "email_message.values()"
   ]
  },
  {
   "cell_type": "code",
   "execution_count": null,
   "metadata": {},
   "outputs": [],
   "source": []
  }
 ],
 "metadata": {
  "kernelspec": {
   "display_name": "Python 3",
   "language": "python",
   "name": "python3"
  },
  "language_info": {
   "codemirror_mode": {
    "name": "ipython",
    "version": 3
   },
   "file_extension": ".py",
   "mimetype": "text/x-python",
   "name": "python",
   "nbconvert_exporter": "python",
   "pygments_lexer": "ipython3",
   "version": "3.7.3"
  }
 },
 "nbformat": 4,
 "nbformat_minor": 4
}
